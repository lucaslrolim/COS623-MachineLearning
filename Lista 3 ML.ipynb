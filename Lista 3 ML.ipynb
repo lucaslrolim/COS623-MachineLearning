{
 "cells": [
  {
   "cell_type": "markdown",
   "metadata": {},
   "source": [
    "# Machine Learning COS-623 - Terceiro Trimestre de 2017\n",
    "## Terceira e Quarta Listas de Exercı́cios (Graduação e Pós-Graduação)\n",
    "\n"
   ]
  },
  {
   "cell_type": "code",
   "execution_count": null,
   "metadata": {
    "collapsed": true,
    "scrolled": false
   },
   "outputs": [],
   "source": [
    "import numpy as np # manipulação de matrizes\n",
    "import pandas as pd # Manipulação de datasets\n",
    "import matplotlib.pyplot as plt # Para plotagem\n",
    "import seaborn as sns # Coloração melhor nas plotagens\n",
    "import scipy.stats as stats # Normalizações, cálculos de densidade de probabilidade, etc\n",
    "import sklearn # Implementação de modelos preditivos e de classificação\n",
    "\n",
    "%matplotlib inline"
   ]
  },
  {
   "cell_type": "code",
   "execution_count": null,
   "metadata": {
    "collapsed": true,
    "scrolled": true
   },
   "outputs": [],
   "source": [
    "## Lendo o dataset e separando os dados em 1000 dados de treino e 172 dados de teste\n",
    "df = pd.read_csv(\"Dados-medicos.txt\",sep=\" \")\n",
    "df = df.drop('Unnamed: 1', 1) ## removendo coluna gerado errôneamentod devido à formatação dos dados\n",
    "df = df.drop('Unnamed: 2', 1) ## removendo coluna gerado errôneamentod devido à formatação dos dados\n",
    "\n",
    "train = df.sample(frac = 0.85324232082,random_state=200)\n",
    "test  = df.drop(train.index)"
   ]
  },
  {
   "cell_type": "markdown",
   "metadata": {},
   "source": [
    "### Funções de apoio para primeira questão\n",
    "\n",
    "Vamos definir uma função para executar o modelo de Regressão Linear, bem como analisar seu desempenho ao manipular as variáveis de entrada X e também plotar seu resultado final."
   ]
  },
  {
   "cell_type": "code",
   "execution_count": null,
   "metadata": {
    "collapsed": true,
    "scrolled": false
   },
   "outputs": [],
   "source": [
    "from sklearn.linear_model import LinearRegression ## Modelo de regressão linear\n",
    "from sklearn.preprocessing import PolynomialFeatures ## Geração de features para modelos\n",
    "\n",
    "def do_rmse(y,y_predicted):\n",
    "    return np.sqrt(np.mean((y - y_predicted) **2 ))\n",
    "\n",
    "def negativeLogLikelihood(testDataset,variance,y,y_predicted):\n",
    "    return -(len(testDataset)/2)*np.log(2*np.pi*variance) - (1/(2*variance))* np.sum((y - y_predicted) **2 )\n",
    "\n",
    "def linearRegression2(train,test,variables,target,polyDegree, toPlot = False, plotedVariables = None):\n",
    "    # Vamos criar trainFeatures e testFeatures e aplicar sobre eles as transformações dados pelas base functions\n",
    "    # E.g., Para duas features a e b, para um polinomio de grau 2, as funções base serão:\n",
    "    # [1, a, b, a^2, ab, b^2]\n",
    "\n",
    "    trainData = train[variables]\n",
    "    trainFeatures = trainData.drop(target, axis = 1)\n",
    "\n",
    "    testData = test[variables]\n",
    "    testFeatures = testData.drop(target, axis = 1)\n",
    "\n",
    "    polyDegree = 4\n",
    "\n",
    "    # executa para todos os graus de 1 até polyDegree\n",
    "    for i in range (1,polyDegree+1):\n",
    "        poly = PolynomialFeatures(degree=i)\n",
    "        X = poly.fit_transform(trainFeatures)\n",
    "        test_X = poly.fit_transform(testFeatures)\n",
    "\n",
    "        X = pd.DataFrame(data=X[0:,0:],index=X[0:,0])\n",
    "        test_X = pd.DataFrame(data=test_X[0:,0:],index=test_X[0:,0]) \n",
    "\n",
    "        lm = LinearRegression()\n",
    "        lm.fit(X,trainData.VO2_medido_máximo)\n",
    "        print(pd.DataFrame(list(zip(X.columns,lm.coef_)),columns = ['features','w']))\n",
    "        rmse =  np.sqrt(np.mean( (test.VO2_medido_máximo - lm.predict(test_X) ) **2 ))\n",
    "        print(\"O RMSE com polinômio de grau %i foi de %f\" % (i,rmse)) \n",
    "        var = test[['VO2_medido_máximo']].var()\n",
    "        nll = -(len(test)/2)*np.log(2*np.pi*var) - (1/(2*var))* np.sum( (test.VO2_medido_máximo - lm.predict(test_X) ) **2 )\n",
    "        print(\"O NLL com polinômio de grau %i foi de %f \\n\" % (i,nll)) \n",
    "        \n",
    "    if(toPlot):\n",
    "        # plots graph\n",
    "        y = train[['VO2_medido_máximo']].values\n",
    "        x = train[plotedVariables].values\n",
    "        plt.scatter(x,y)\n",
    "        plt.plot(x, lm.predict(poly.fit_transform(x)), color='blue', linewidth=3)\n",
    "\n",
    "        plt.grid(True)\n",
    "        plt.savefig(\"test.png\")\n",
    "        plt.show()"
   ]
  },
  {
   "cell_type": "markdown",
   "metadata": {},
   "source": [
    "## Questão 1\n",
    "\n",
    "### 1.1"
   ]
  },
  {
   "cell_type": "code",
   "execution_count": null,
   "metadata": {
    "collapsed": true,
    "scrolled": false
   },
   "outputs": [],
   "source": [
    "linearRegression2(train,test,['Carga_Final','VO2_medido_máximo'],['VO2_medido_máximo'],4, True)"
   ]
  },
  {
   "cell_type": "markdown",
   "metadata": {},
   "source": [
    "### Questão 1.2"
   ]
  },
  {
   "cell_type": "code",
   "execution_count": null,
   "metadata": {
    "collapsed": true,
    "scrolled": false
   },
   "outputs": [],
   "source": [
    "linearRegression2(\n",
    "    train,\n",
    "    test,\n",
    "    ['Peso', 'Carga_Final','VO2_medido_máximo'],\n",
    "    ['VO2_medido_máximo'],\n",
    "    4\n",
    ")"
   ]
  },
  {
   "cell_type": "markdown",
   "metadata": {
    "collapsed": true
   },
   "source": [
    "### Questão 1.3"
   ]
  },
  {
   "cell_type": "code",
   "execution_count": null,
   "metadata": {
    "collapsed": true,
    "scrolled": false
   },
   "outputs": [],
   "source": [
    "linearRegression2(\n",
    "    train,\n",
    "    test,\n",
    "    ['IDADE', 'Peso', 'Carga_Final','VO2_medido_máximo'],\n",
    "    ['VO2_medido_máximo'],\n",
    "    4\n",
    ")"
   ]
  },
  {
   "cell_type": "markdown",
   "metadata": {},
   "source": [
    "## Questao 2"
   ]
  },
  {
   "cell_type": "markdown",
   "metadata": {},
   "source": [
    "### 2.1 \n",
    "\n",
    "Referências:\n",
    "\n",
    "- https://en.wikipedia.org/wiki/Multivariate_normal_distribution\n",
    "- https://stackoverflow.com/questions/38698277/plot-normal-distribution-in-3d"
   ]
  },
  {
   "cell_type": "code",
   "execution_count": null,
   "metadata": {
    "collapsed": true,
    "scrolled": false
   },
   "outputs": [],
   "source": [
    "from scipy.stats import multivariate_normal\n",
    "from mpl_toolkits.mplot3d import Axes3D\n",
    "\n",
    "# Parâmetros da Gaussiana\n",
    "\n",
    "var_carga = train[['Carga_Final']].var().values[0]\n",
    "mean_carga = train[['Carga_Final']].mean().values[0]\n",
    "\n",
    "var_vo2 = train[['VO2_medido_máximo']].var().values[0]\n",
    "mean_vo2 = train[['VO2_medido_máximo']].mean().values[0]\n",
    "\n",
    "## Criação de Grid para plotagem da Gaussiana multivariada \n",
    "\n",
    "x = np.linspace(train[['Carga_Final']].min(),train[['Carga_Final']].max(),500)\n",
    "y = np.linspace(train[['VO2_medido_máximo']].min(),train[['VO2_medido_máximo']].max(),500)\n",
    "\n",
    "X, Y = np.meshgrid(x,y)\n",
    "pos = np.empty(X.shape + (2,))\n",
    "pos[:, :, 0] = X; pos[:, :, 1] = Y\n",
    "rv = multivariate_normal([mean_carga, mean_vo2], [[var_carga, 0], [0, var_vo2]])\n",
    "\n",
    "# Plotagem 3D\n",
    "\n",
    "fig = plt.figure(figsize=(9, 9))\n",
    "ax = fig.gca(projection='3d')\n",
    "ax.plot_surface(X, Y, rv.pdf(pos),cmap='viridis',linewidth=0)\n",
    "ax.set_xlabel('Carga_Final')\n",
    "ax.set_ylabel('VO2_medido_máximo')\n",
    "ax.set_zlabel('Densidade de Probabilidade')\n",
    "plt.show()"
   ]
  },
  {
   "cell_type": "markdown",
   "metadata": {},
   "source": [
    "### 2.2"
   ]
  },
  {
   "cell_type": "markdown",
   "metadata": {},
   "source": [
    "Dado que a variável *V02* é contínua, a maneira mais adequada para resolver esse problema é primeiro integrando nossa Gaussiana no eixo do **Peso** e da **Carga** de acordo com os valores dados, depois definindo faixas de intervalo em V02 e integrando  para encontrar qual obtém maior probabilidade.\n",
    "\n",
    "Devido a limitações de capacidade de processamento, neste trabalho nós retornaremos apenas uma aproximação do valor mais provável de VO2, sem a distribuição de probabilidade dos demais valores."
   ]
  },
  {
   "cell_type": "code",
   "execution_count": null,
   "metadata": {
    "collapsed": true
   },
   "outputs": [],
   "source": [
    "def acsm_formula(w,peso):\n",
    "    return round((w*11.4+260+peso*3.5)/peso,3)"
   ]
  },
  {
   "cell_type": "code",
   "execution_count": null,
   "metadata": {},
   "outputs": [],
   "source": [
    "mean_peso = train[['Peso']].mean().values[0]\n",
    "\n",
    "my_data = train[['Carga_Final','VO2_medido_máximo','Peso']]\n",
    "cov = my_data.cov().as_matrix()\n",
    "\n",
    "rv2 = multivariate_normal([mean_carga,mean_peso,mean_vo2], cov)\n",
    "\n",
    "sample_values =  [[70,94.1],[260,70],[220,100]]\n",
    "\n",
    "for j in range(len(sample_values)):\n",
    "    probs = []\n",
    "    max_prob = 0 \n",
    "    max_value = 0\n",
    "    values = np.linspace(train[['VO2_medido_máximo']].min(),train[['VO2_medido_máximo']].max(),10000)\n",
    "    for i in values:\n",
    "        vo2 = rv2.pdf([sample_values[j][0],sample_values[j][1],i])\n",
    "        probs.append(vo2)\n",
    "        if(vo2 > max_prob):\n",
    "            max_prob = vo2\n",
    "            max_value = i \n",
    "    print((\"O valor de Vo2 mais provável para o peso %s e a carga %s é: %s e o valor previsto pela ACMS é de %s\") %\n",
    "          (sample_values[j][0],\n",
    "           sample_values[j][1],\n",
    "           round(max_value,3),\n",
    "           acsm_formula(sample_values[j][0],sample_values[j][1])))"
   ]
  },
  {
   "cell_type": "markdown",
   "metadata": {},
   "source": [
    "### 2.3"
   ]
  },
  {
   "cell_type": "code",
   "execution_count": null,
   "metadata": {},
   "outputs": [],
   "source": [
    "mean_idade = train[['IDADE']].mean().values[0]\n",
    "\n",
    "my_data = train[['Carga_Final','VO2_medido_máximo','Peso','IDADE']]\n",
    "cov = my_data.cov().as_matrix()\n",
    "\n",
    "rv2 = multivariate_normal([mean_carga,mean_peso,mean_idade,mean_vo2], cov)\n",
    "\n",
    "sample_values =  [[70,94.1,18],[260,70,30],[220,100,60]]\n",
    "\n",
    "for j in range(len(sample_values)):\n",
    "    probs = []\n",
    "    max_prob = 0 \n",
    "    max_value = 0\n",
    "    values = np.linspace(train[['VO2_medido_máximo']].min(),train[['VO2_medido_máximo']].max(),10000)\n",
    "    for i in values:\n",
    "        vo2 = rv2.pdf([sample_values[j][0],sample_values[j][1],sample_values[j][2],i])\n",
    "        probs.append(vo2)\n",
    "        if(vo2 > max_prob):\n",
    "            max_prob = vo2\n",
    "            max_value = i \n",
    "    print((\"O valor de Vo2 mais provável para o peso %s,a carga %s e idade %s é: %s e o valor previsto pela ACMS é de %s\") %\n",
    "          (sample_values[j][0],\n",
    "           sample_values[j][1],\n",
    "           sample_values[j][2],\n",
    "           round(max_value,3),\n",
    "           acsm_formula(sample_values[j][0],sample_values[j][1])))"
   ]
  },
  {
   "cell_type": "markdown",
   "metadata": {
    "collapsed": true,
    "scrolled": false
   },
   "source": [
    "## Questão 3\n",
    "### Questão 3.1\n",
    "Haverá diferença somente se a prior tiver pesos diferentes? (VERIFICAR E DISSERTAR MELHOR)"
   ]
  },
  {
   "cell_type": "code",
   "execution_count": null,
   "metadata": {
    "collapsed": true
   },
   "outputs": [],
   "source": [
    "# Parâmetros da Gaussiana\n",
    "train = train[['Carga_Final']].var().values[0]\n",
    "mean_carga = train[['Carga_Final']].mean().values[0]"
   ]
  },
  {
   "cell_type": "markdown",
   "metadata": {},
   "source": [
    "### Questão 3.2\n",
    "Onde $\\boldsymbol{x} = [x_1, x_2, .., x_D]$\n",
    ", pela independência entre as features assumida no modelo Naive Bayes, podemos calcular a probabilidade da classe como:\n",
    "$$ p(h = c \\mid \\boldsymbol{x}, \\theta) \\propto p(h=c \\mid \\theta) \\prod_{i=1}^{D} p(x_i \\mid h=c, \\theta)  $$\n",
    "$$ posterior \\propto prior * likelihood $$\n",
    "A prior $p(h=c \\mid \\theta)$ que pode ser genarada como o número de amostras pertencentes a classe $c$ dividido pelo número total de amostras.\n",
    "\n",
    "A likelihood, portanto, é baseado no modelo Gaussiano, já presente no enunciado da questão.\n",
    "\n",
    "### Questão 3.3\n",
    "A suposição básica do Naive Bayes é assumir que as features sejam independêntes entre si, o que não é\n",
    "necessário no modelo de Gaussiana Multivariada.\n",
    "\n",
    "### Questão 3.4\n",
    "Temos que a likelihood é: \n",
    "$$\\mathcal{L}(\\theta \\mid \\boldsymbol{x}, y=c) = P(\\boldsymbol{x}, y=c \\mid \\theta) \\propto P(\\boldsymbol{x} \\mid y=c) P(y=c \\mid \\theta)$$\n",
    "Pela independência das features:\n",
    "$$\\mathcal{L}(\\theta \\mid \\boldsymbol{x}, y=c) = P(y=c \\mid \\theta) \\prod_{i=1}^{D} P(x_i \\mid y=c, \\theta)$$\n",
    "Aplicando log:\n",
    "$$log \\mathcal{L}(\\theta \\mid \\boldsymbol{x}, y=c) = log(P(y=c \\mid \\theta)) + \\sum_{i=1}^{D} log(P(x_i \\mid y=c, \\theta))$$\n",
    "Para otimizar os parâmetros, precisamos derivar em relação ao parâmetro e igualar a zero."
   ]
  },
  {
   "cell_type": "markdown",
   "metadata": {},
   "source": [
    "## Questão 4"
   ]
  },
  {
   "cell_type": "code",
   "execution_count": null,
   "metadata": {},
   "outputs": [],
   "source": [
    "from sklearn import mixture\n",
    "\n",
    "df = train[['Carga_Final','VO2_medido_máximo','Peso']]\n",
    "samples = test[['Carga_Final','VO2_medido_máximo','Peso']]\n",
    "\n",
    "gmm = mixture.GaussianMixture(n_components=3)\n",
    "gmm.fit(np.array(df))\n",
    "labels = gmm.predict(np.array(samples))\n",
    "plt.scatter(np.array(samples)[:, 0], np.array(samples)[:, 2], c=labels, s=40, cmap='viridis');\n"
   ]
  }
 ],
 "metadata": {
  "kernelspec": {
   "display_name": "Python 3",
   "language": "python",
   "name": "python3"
  },
  "language_info": {
   "codemirror_mode": {
    "name": "ipython",
    "version": 3
   },
   "file_extension": ".py",
   "mimetype": "text/x-python",
   "name": "python",
   "nbconvert_exporter": "python",
   "pygments_lexer": "ipython3",
   "version": "3.6.3"
  }
 },
 "nbformat": 4,
 "nbformat_minor": 2
}
