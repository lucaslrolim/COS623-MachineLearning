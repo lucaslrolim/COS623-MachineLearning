{
 "cells": [
  {
   "cell_type": "markdown",
   "metadata": {},
   "source": [
    "# Machine Learning COS-623 - Terceiro Trimestre de 2017\n",
    "## Terceira e Quarta Listas de Exercı́cios (Graduação e Pós-Graduação)\n",
    "\n"
   ]
  },
  {
   "cell_type": "code",
   "execution_count": 35,
   "metadata": {},
   "outputs": [],
   "source": [
    "# Importando bibliotecas úteis\n",
    "%matplotlib inline\n",
    "import numpy as np\n",
    "import pandas as pd\n",
    "import matplotlib.pyplot as plt\n",
    "import scipy.stats as stats\n",
    "import sklearn"
   ]
  },
  {
   "cell_type": "code",
   "execution_count": 31,
   "metadata": {
    "scrolled": true
   },
   "outputs": [
    {
     "data": {
      "text/plain": [
       "['IDADE', 'Peso', 'Carga_Final', 'VO2_medido_máximo']"
      ]
     },
     "execution_count": 31,
     "metadata": {},
     "output_type": "execute_result"
    }
   ],
   "source": [
    "## Lendo o dataset e separando os dados em 1000 dados de treino e 172 dados de teste\n",
    "df = pd.read_csv(\"Dados-medicos.txt\",sep=\" \")\n",
    "df = df.drop('Unnamed: 1', 1)\n",
    "df = df.drop('Unnamed: 2', 1)\n",
    "\n",
    "train = df.sample(frac = 0.85324232082,random_state=200)\n",
    "test  = df.drop(train.index)\n",
    "list(test)"
   ]
  },
  {
   "cell_type": "markdown",
   "metadata": {},
   "source": [
    "### Questão 1\n"
   ]
  },
  {
   "cell_type": "code",
   "execution_count": 95,
   "metadata": {},
   "outputs": [
    {
     "name": "stdout",
     "output_type": "stream",
     "text": [
      "      features         w\n",
      "0  Carga_Final  0.133087\n"
     ]
    },
    {
     "data": {
      "image/png": "[encoded data removed]",
      "text/plain": [
       "<matplotlib.figure.Figure at 0x7fcb9bcc7978>"
      ]
     },
     "metadata": {},
     "output_type": "display_data"
    },
    {
     "name": "stdout",
     "output_type": "stream",
     "text": [
      "O RMSE foi de 5.248248\n",
      "O NLL foi de -571.207806\n"
     ]
    }
   ],
   "source": [
    "from sklearn.linear_model import LinearRegression\n",
    "\n",
    "data = train[['Carga_Final','VO2_medido_máximo']]\n",
    "X = data.drop('VO2_medido_máximo', axis = 1)\n",
    "\n",
    "lm = LinearRegression()\n",
    "lm.fit(X,data.VO2_medido_máximo)\n",
    "print(pd.DataFrame(list(zip(X.columns,lm.coef_)),columns = ['features','w']))\n",
    "\n",
    "plt.scatter(test[['VO2_medido_máximo']],lm.predict(test[['Carga_Final']]))\n",
    "plt.xlabel(\"VO2 medido\")\n",
    "plt.ylabel(\"VO2 previsto\")\n",
    "plt.xticks(np.arange(50, 0, 10))\n",
    "plt.show();\n",
    "\n",
    "rmse =  np.sqrt(np.mean( (test.VO2_medido_máximo - lm.predict(test[['Carga_Final']]) ) **2 ))\n",
    "\n",
    "print(\"O RMSE foi de %f\" % (rmse)) \n",
    "\n",
    "var = test[['VO2_medido_máximo']].var()\n",
    "nll = -(len(test)/2)*np.log(2*np.pi*var) - (1/(2*var))* np.sum( (test.VO2_medido_máximo - lm.predict(test[['Carga_Final']]) ) **2 )\n",
    "print(\"O NLL foi de %f\" % (nll)) "
   ]
  }
 ],
 "metadata": {
  "kernelspec": {
   "display_name": "Python 3",
   "language": "python",
   "name": "python3"
  },
  "language_info": {
   "codemirror_mode": {
    "name": "ipython",
    "version": 3
   },
   "file_extension": ".py",
   "mimetype": "text/x-python",
   "name": "python",
   "nbconvert_exporter": "python",
   "pygments_lexer": "ipython3",
   "version": "3.6.3"
  }
 },
 "nbformat": 4,
 "nbformat_minor": 2
}
