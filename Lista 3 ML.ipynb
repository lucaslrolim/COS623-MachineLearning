{
 "cells": [
  {
   "cell_type": "markdown",
   "metadata": {},
   "source": [
    "# Machine Learning COS-623 - Terceiro Trimestre de 2017\n",
    "## Terceira e Quarta Listas de Exercı́cios (Graduação e Pós-Graduação)\n",
    "\n"
   ]
  },
  {
   "cell_type": "code",
   "execution_count": 148,
   "metadata": {
    "collapsed": true
   },
   "outputs": [],
   "source": [
    "# Importando bibliotecas úteis\n",
    "from sklearn.preprocessing import PolynomialFeatures\n",
    "%matplotlib inline\n",
    "import numpy as np\n",
    "import pandas as pd\n",
    "import matplotlib.pyplot as plt\n",
    "import scipy.stats as stats\n",
    "import sklearn"
   ]
  },
  {
   "cell_type": "code",
   "execution_count": 149,
   "metadata": {
    "scrolled": true
   },
   "outputs": [
    {
     "data": {
      "text/plain": [
       "['IDADE', 'Peso', 'Carga_Final', 'VO2_medido_máximo']"
      ]
     },
     "execution_count": 149,
     "metadata": {},
     "output_type": "execute_result"
    }
   ],
   "source": [
    "## Lendo o dataset e separando os dados em 1000 dados de treino e 172 dados de teste\n",
    "df = pd.read_csv(\"Dados-medicos.txt\",sep=\" \")\n",
    "df = df.drop('Unnamed: 1', 1)\n",
    "df = df.drop('Unnamed: 2', 1)\n",
    "\n",
    "train = df.sample(frac = 0.85324232082,random_state=200)\n",
    "test  = df.drop(train.index)\n",
    "list(test)"
   ]
  },
  {
   "cell_type": "markdown",
   "metadata": {},
   "source": [
    "### Questão 1.1"
   ]
  },
  {
   "cell_type": "code",
   "execution_count": 270,
   "metadata": {},
   "outputs": [
    {
     "name": "stdout",
     "output_type": "stream",
     "text": [
      "   features         w\n",
      "0         0  0.000000\n",
      "1         1  0.133087\n",
      "O RMSE com polinômio de grau 1 foi de 5.248248\n",
      "O NLL com polinômio de grau 1 foi de -571.207806 \n",
      "\n",
      "   features         w\n",
      "0         0  0.000000\n",
      "1         1  0.135884\n",
      "2         2 -0.000007\n",
      "O RMSE com polinômio de grau 2 foi de 5.239117\n",
      "O NLL com polinômio de grau 2 foi de -571.116067 \n",
      "\n",
      "   features             w\n",
      "0         0  0.000000e+00\n",
      "1         1  1.238605e-01\n",
      "2         2  6.021022e-05\n",
      "3         3 -1.115425e-07\n",
      "O RMSE com polinômio de grau 3 foi de 5.243538\n",
      "O NLL com polinômio de grau 3 foi de -571.160462 \n",
      "\n",
      "   features             w\n",
      "0         0  0.000000e+00\n",
      "1         1  2.163564e-01\n",
      "2         2 -7.686770e-04\n",
      "3         3  2.795914e-06\n",
      "4         4 -3.451295e-09\n",
      "O RMSE com polinômio de grau 4 foi de 5.264564\n",
      "O NLL com polinômio de grau 4 foi de -571.372131 \n",
      "\n"
     ]
    }
   ],
   "source": [
    "from sklearn.linear_model import LinearRegression\n",
    "\n",
    "## Vamos criar X_ e test_ para ser datasets que possuem os valores das nossas variaveis x (carga) elevado a n\n",
    "\n",
    "data = train[['Carga_Final','VO2_medido_máximo']]\n",
    "X_ = data.drop('VO2_medido_máximo', axis = 1)\n",
    "\n",
    "testData = test[['Carga_Final','VO2_medido_máximo']]\n",
    "test_ = testData.drop('VO2_medido_máximo', axis = 1)\n",
    "\n",
    "polyDegree = 4\n",
    "poly = PolynomialFeatures(degree=polyDegree)\n",
    "\n",
    "X_ = poly.fit_transform(X_)\n",
    "test_ = poly.fit_transform(test_)\n",
    "\n",
    "X_ = pd.DataFrame(data=X_[0:,0:],index=X_[0:,0])\n",
    "\n",
    "test_ = pd.DataFrame(data=test_[0:,0:],index=test_[0:,0]) \n",
    "\n",
    "## Executando uma regressao polinomial para cada grau de polinomio <= polyDegree\n",
    "w_list = []\n",
    "for i in range (1,polyDegree+1):\n",
    "    X = X_.iloc[:,0:i+1]\n",
    "    test_X = test_.iloc[:,0:i+1]\n",
    "    lm = LinearRegression()\n",
    "    lm.fit(X,data.VO2_medido_máximo)\n",
    "    w_list.append(lm.coef_)\n",
    "    print(pd.DataFrame(list(zip(X.columns,lm.coef_)),columns = ['features','w']))\n",
    "    rmse =  np.sqrt(np.mean( (test.VO2_medido_máximo - lm.predict(test_X) ) **2 ))\n",
    "    print(\"O RMSE com polinômio de grau %i foi de %f\" % (i,rmse)) \n",
    "    var = test[['VO2_medido_máximo']].var()\n",
    "    nll = -(len(test)/2)*np.log(2*np.pi*var) - (1/(2*var))* np.sum( (test.VO2_medido_máximo - lm.predict(test_X) ) **2 )\n",
    "    print(\"O NLL com polinômio de grau %i foi de %f \\n\" % (i,nll)) \n"
   ]
  },
  {
   "cell_type": "code",
   "execution_count": 195,
   "metadata": {},
   "outputs": [
    {
     "data": {
      "image/png": "[encoded data removed]",
      "text/plain": [
       "<matplotlib.figure.Figure at 0x7ff1b45afb00>"
      ]
     },
     "metadata": {},
     "output_type": "display_data"
    }
   ],
   "source": [
    "y = test[['VO2_medido_máximo']].values\n",
    "x = test[['Carga_Final']].values\n",
    "s = w_list[0][0] + w_list[0][1]*x\n",
    "s2 = w_list[1][0] + w_list[1][1]*x + w_list[1][2] * (x**2)\n",
    "\n",
    "plt.scatter(x,y)\n",
    "\n",
    "plt.grid(True)\n",
    "plt.savefig(\"test.png\")\n",
    "plt.show()"
   ]
  },
  {
   "cell_type": "code",
   "execution_count": null,
   "metadata": {
    "collapsed": true
   },
   "outputs": [],
   "source": []
  }
 ],
 "metadata": {
  "kernelspec": {
   "display_name": "Python 3",
   "language": "python",
   "name": "python3"
  },
  "language_info": {
   "codemirror_mode": {
    "name": "ipython",
    "version": 3
   },
   "file_extension": ".py",
   "mimetype": "text/x-python",
   "name": "python",
   "nbconvert_exporter": "python",
   "pygments_lexer": "ipython3",
   "version": "3.6.3"
  }
 },
 "nbformat": 4,
 "nbformat_minor": 2
}
