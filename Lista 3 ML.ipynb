{
 "cells": [
  {
   "cell_type": "markdown",
   "metadata": {},
   "source": [
    "# Machine Learning COS-623 - Terceiro Trimestre de 2017\n",
    "## Terceira e Quarta Listas de Exercı́cios (Graduação e Pós-Graduação)\n",
    "\n"
   ]
  },
  {
   "cell_type": "code",
   "execution_count": 7,
   "metadata": {
    "collapsed": true
   },
   "outputs": [],
   "source": [
    "# Importando bibliotecas úteis\n",
    "from sklearn.preprocessing import PolynomialFeatures\n",
    "%matplotlib inline\n",
    "import numpy as np\n",
    "import pandas as pd\n",
    "import matplotlib.pyplot as plt\n",
    "import scipy.stats as stats\n",
    "import sklearn"
   ]
  },
  {
   "cell_type": "code",
   "execution_count": 15,
   "metadata": {
    "scrolled": true
   },
   "outputs": [
    {
     "data": {
      "text/plain": [
       "['IDADE', 'Peso', 'Carga_Final', 'VO2_medido_máximo']"
      ]
     },
     "execution_count": 15,
     "metadata": {},
     "output_type": "execute_result"
    }
   ],
   "source": [
    "## Lendo o dataset e separando os dados em 1000 dados de treino e 172 dados de teste\n",
    "df = pd.read_csv(\"Dados-medicos.txt\",sep=\" \")\n",
    "df = df.drop('Unnamed: 1', 1)\n",
    "df = df.drop('Unnamed: 2', 1)\n",
    "\n",
    "train = df.sample(frac = 0.85324232082,random_state=200)\n",
    "test  = df.drop(train.index)\n",
    "list(test)"
   ]
  },
  {
   "cell_type": "markdown",
   "metadata": {},
   "source": [
    "### Questão 1.1"
   ]
  },
  {
   "cell_type": "code",
   "execution_count": 49,
   "metadata": {},
   "outputs": [
    {
     "name": "stdout",
     "output_type": "stream",
     "text": [
      "   features         w\n",
      "0         0  0.000000\n",
      "1         1  0.133087\n",
      "O RMSE com polinômio de grau 1 foi de 5.248248\n",
      "O NLL com polinômio de grau 1 foi de -571.207806 \n",
      "\n",
      "   features         w\n",
      "0         0  0.000000\n",
      "1         1  0.135884\n",
      "2         2 -0.000007\n",
      "O RMSE com polinômio de grau 2 foi de 5.239117\n",
      "O NLL com polinômio de grau 2 foi de -571.116067 \n",
      "\n",
      "   features             w\n",
      "0         0  0.000000e+00\n",
      "1         1  1.238605e-01\n",
      "2         2  6.021022e-05\n",
      "3         3 -1.115425e-07\n",
      "O RMSE com polinômio de grau 3 foi de 5.243538\n",
      "O NLL com polinômio de grau 3 foi de -571.160462 \n",
      "\n",
      "   features             w\n",
      "0         0  0.000000e+00\n",
      "1         1  2.163564e-01\n",
      "2         2 -7.686770e-04\n",
      "3         3  2.795914e-06\n",
      "4         4 -3.451295e-09\n",
      "O RMSE com polinômio de grau 4 foi de 5.264564\n",
      "O NLL com polinômio de grau 4 foi de -571.372131 \n",
      "\n"
     ]
    },
    {
     "data": {
      "image/png": "[encoded data removed]",
      "text/plain": [
       "<matplotlib.figure.Figure at 0x7f45cfd5c128>"
      ]
     },
     "metadata": {},
     "output_type": "display_data"
    }
   ],
   "source": [
    "from sklearn.linear_model import LinearRegression\n",
    "\n",
    "## Vamos criar X_ e test_ para ser datasets que possuem os valores das nossas variaveis x (carga) elevado a n\n",
    "\n",
    "data = train[['Carga_Final','VO2_medido_máximo']]\n",
    "X_ = data.drop('VO2_medido_máximo', axis = 1)\n",
    "\n",
    "testData = test[['Carga_Final','VO2_medido_máximo']]\n",
    "test_ = testData.drop('VO2_medido_máximo', axis = 1)\n",
    "\n",
    "polyDegree = 4\n",
    "poly = PolynomialFeatures(degree=polyDegree)\n",
    "\n",
    "X_ = poly.fit_transform(X_)\n",
    "    \n",
    "test_ = poly.fit_transform(test_)\n",
    "\n",
    "X_ = pd.DataFrame(data=X_[0:,0:],index=X_[0:,0])\n",
    "\n",
    "test_ = pd.DataFrame(data=test_[0:,0:],index=test_[0:,0]) \n",
    "\n",
    "## Executando uma regressao polinomial para cada grau de polinomio <= polyDegree\n",
    "lm = LinearRegression()\n",
    "for i in range (1,polyDegree+1):\n",
    "    X = X_.iloc[:,0:i+1]\n",
    "    test_X = test_.iloc[:,0:i+1]\n",
    "    lm.fit(X,data.VO2_medido_máximo)\n",
    "    print(pd.DataFrame(list(zip(X.columns,lm.coef_)),columns = ['features','w']))\n",
    "    rmse =  np.sqrt(np.mean( (test.VO2_medido_máximo - lm.predict(test_X) ) **2 ))\n",
    "    print(\"O RMSE com polinômio de grau %i foi de %f\" % (i,rmse)) \n",
    "    var = test[['VO2_medido_máximo']].var()\n",
    "    nll = -(len(test)/2)*np.log(2*np.pi*var) - (1/(2*var))* np.sum( (test.VO2_medido_máximo - lm.predict(test_X) ) **2 )\n",
    "    print(\"O NLL com polinômio de grau %i foi de %f \\n\" % (i,nll)) \n",
    "\n",
    "# plots graph\n",
    "y = train[['VO2_medido_máximo']].values\n",
    "x = train[['Carga_Final']].values\n",
    "plt.scatter(x,y)\n",
    "plt.plot(x, lm.predict(poly.fit_transform(x)), color='blue', linewidth=3)\n",
    "\n",
    "plt.grid(True)\n",
    "plt.savefig(\"test.png\")\n",
    "plt.show()"
   ]
  },
  {
   "cell_type": "code",
   "execution_count": null,
   "metadata": {},
   "outputs": [],
   "source": []
  },
  {
   "cell_type": "markdown",
   "metadata": {
    "collapsed": true
   },
   "source": [
    "### Questão 1.2"
   ]
  },
  {
   "cell_type": "code",
   "execution_count": 35,
   "metadata": {},
   "outputs": [
    {
     "name": "stdout",
     "output_type": "stream",
     "text": [
      "   features         w\n",
      "0         0  0.000000\n",
      "1         1 -0.244736\n",
      "2         2  0.142742\n",
      "O RMSE com polinômio de grau 1 foi de 3.781242\n",
      "O NLL com polinômio de grau 1 foi de -558.517666 \n",
      "\n",
      "   features         w\n",
      "0         0  0.000000\n",
      "1         1 -0.488019\n",
      "2         2  0.288877\n",
      "3         3  0.002468\n",
      "4         4 -0.001340\n",
      "5         5 -0.000084\n",
      "O RMSE com polinômio de grau 2 foi de 3.518761\n",
      "O NLL com polinômio de grau 2 foi de -556.682002 \n",
      "\n",
      "   features             w\n",
      "0         0  0.000000e+00\n",
      "1         1 -2.954695e-01\n",
      "2         2  4.048171e-01\n",
      "3         3  3.005451e-03\n",
      "4         4 -4.721965e-03\n",
      "5         5  1.081736e-04\n",
      "6         6 -1.038018e-05\n",
      "7         7  1.690830e-05\n",
      "8         8  6.637688e-07\n",
      "9         9 -3.940199e-07\n",
      "O RMSE com polinômio de grau 3 foi de 3.535753\n",
      "O NLL com polinômio de grau 3 foi de -556.796843 \n",
      "\n",
      "    features             w\n",
      "0          0  0.000000e+00\n",
      "1          1  5.715251e-02\n",
      "2          2  5.911783e-01\n",
      "3          3 -8.479512e-04\n",
      "4          4 -8.059560e-03\n",
      "5          5 -7.687212e-04\n",
      "6          6  1.553406e-06\n",
      "7          7  5.085588e-05\n",
      "8          8  3.681775e-06\n",
      "9          9  2.287584e-06\n",
      "10        10  3.141956e-08\n",
      "11        11 -1.593998e-07\n",
      "12        12  2.405897e-08\n",
      "13        13 -1.319346e-08\n",
      "14        14 -1.853117e-09\n",
      "O RMSE com polinômio de grau 4 foi de 3.536983\n",
      "O NLL com polinômio de grau 4 foi de -556.805175 \n",
      "\n"
     ]
    }
   ],
   "source": [
    "# Vamos criar trainFeatures e testFeatures e aplicar sobre eles as transformações dados pelas base functions\n",
    "# E.g., Para duas features a e b, para um polinomio de grau 2, as funções base serão:\n",
    "# [1, a, b, a^2, ab, b^2]\n",
    "\n",
    "trainData = train[['Peso', 'Carga_Final','VO2_medido_máximo']]\n",
    "trainFeatures = trainData.drop('VO2_medido_máximo', axis = 1)\n",
    "\n",
    "testData = test[['Peso', 'Carga_Final','VO2_medido_máximo']]\n",
    "testFeatures = testData.drop('VO2_medido_máximo', axis = 1)\n",
    "\n",
    "polyDegree = 4\n",
    "\n",
    "# executa para todos os graus de 0 até polyDegree\n",
    "for i in range (1,polyDegree+1):\n",
    "    poly = PolynomialFeatures(degree=i)\n",
    "    X = poly.fit_transform(trainFeatures)\n",
    "    test_X = poly.fit_transform(testFeatures)\n",
    "\n",
    "    X = pd.DataFrame(data=X[0:,0:],index=X[0:,0])\n",
    "    test_X = pd.DataFrame(data=test_X[0:,0:],index=test_X[0:,0]) \n",
    "\n",
    "    w_list = []\n",
    "    \n",
    "    lm = LinearRegression()\n",
    "    lm.fit(X,trainData.VO2_medido_máximo)\n",
    "    w_list.append(lm.coef_)\n",
    "    print(pd.DataFrame(list(zip(X.columns,lm.coef_)),columns = ['features','w']))\n",
    "    rmse =  np.sqrt(np.mean( (test.VO2_medido_máximo - lm.predict(test_X) ) **2 ))\n",
    "    print(\"O RMSE com polinômio de grau %i foi de %f\" % (i,rmse)) \n",
    "    var = test[['VO2_medido_máximo']].var()\n",
    "    nll = -(len(test)/2)*np.log(2*np.pi*var) - (1/(2*var))* np.sum( (test.VO2_medido_máximo - lm.predict(test_X) ) **2 )\n",
    "    print(\"O NLL com polinômio de grau %i foi de %f \\n\" % (i,nll)) "
   ]
  }
 ],
 "metadata": {
  "kernelspec": {
   "display_name": "Python 3",
   "language": "python",
   "name": "python3"
  },
  "language_info": {
   "codemirror_mode": {
    "name": "ipython",
    "version": 3
   },
   "file_extension": ".py",
   "mimetype": "text/x-python",
   "name": "python",
   "nbconvert_exporter": "python",
   "pygments_lexer": "ipython3",
   "version": "3.6.3"
  }
 },
 "nbformat": 4,
 "nbformat_minor": 2
}
